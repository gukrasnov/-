{
  "nbformat": 4,
  "nbformat_minor": 0,
  "metadata": {
    "colab": {
      "name": "Обучение Нейронной сети. 2 вход 1 выход (логическое И)",
      "version": "0.3.2",
      "provenance": [],
      "include_colab_link": true
    },
    "kernelspec": {
      "name": "python3",
      "display_name": "Python 3"
    }
  },
  "cells": [
    {
      "cell_type": "markdown",
      "metadata": {
        "id": "view-in-github",
        "colab_type": "text"
      },
      "source": [
        "<a href=\"https://colab.research.google.com/github/gukrasnov/Python_Neural_Network/blob/master/%D0%9E%D0%B1%D1%83%D1%87%D0%B5%D0%BD%D0%B8%D0%B5_%D0%9D%D0%B5%D0%B9%D1%80%D0%BE%D0%BD%D0%BD%D0%BE%D0%B9_%D1%81%D0%B5%D1%82%D0%B8_2_%D0%B2%D1%85%D0%BE%D0%B4_1_%D0%B2%D1%8B%D1%85%D0%BE%D0%B4_(%D0%BB%D0%BE%D0%B3%D0%B8%D1%87%D0%B5%D1%81%D0%BA%D0%BE%D0%B5_%D0%98).ipynb\" target=\"_parent\"><img src=\"https://colab.research.google.com/assets/colab-badge.svg\" alt=\"Open In Colab\"/></a>"
      ]
    },
    {
      "cell_type": "code",
      "metadata": {
        "id": "tFtSu75HWZ67",
        "colab_type": "code",
        "colab": {
          "base_uri": "https://localhost:8080/",
          "height": 340
        },
        "cellView": "both",
        "outputId": "256e4957-efda-4795-b18f-1f7076b140b3"
      },
      "source": [
        "import numpy as np\n",
        "import scipy.special\n",
        "\n",
        "f_activation = lambda x: scipy.special.expit( x )\n",
        "\n",
        "def f_derivative( x ):\n",
        "  return x * ( 1 - x )\n",
        "\n",
        "ls = 0.1\n",
        "\n",
        "input_layer = np.array( [[0, 0, 1, 1],\n",
        "                         [0, 1, 0, 1],\n",
        "                         [1, 1, 1, 1]], dtype='float64' )\n",
        "\n",
        "np.random.seed(1358)\n",
        "synaptic_weight = 2 * np.random.random( (1, 3) ) - 1\n",
        "\n",
        "output_layer = np.array( [[0, 0, 0, 1]], dtype='float64' )\n",
        "\n",
        "print( f'input_layer\\n{ input_layer }\\nsynaptic_weight\\n{ synaptic_weight }\\noutput_layer\\n{ output_layer }' )\n",
        "print( f'--------------------------------------------------------------------' )\n",
        "\n",
        "for i in range( 100000 ):\n",
        "  \n",
        "  O_input = np.dot( synaptic_weight, input_layer )\n",
        "  O_output = f_activation( O_input )\n",
        "\n",
        "  O_error = output_layer - O_output\n",
        "  \n",
        "  synaptic_weight += ls * np.dot( O_error * f_derivative( O_output ), np.transpose( input_layer ) )\n",
        "\n",
        "print( f'O_input\\n{ O_input }\\nO_output\\n{ O_output }' )\n",
        "print( f'--------------------------------------------------------------------' )\n",
        "print( f'O_error\\n{ O_error }' )\n",
        "print( f'--------------------------------------------------------------------' )\n",
        "print( f'update synaptic_weight\\n{synaptic_weight}' )"
      ],
      "execution_count": 133,
      "outputs": [
        {
          "output_type": "stream",
          "text": [
            "input_layer\n",
            "[[0. 0. 1. 1.]\n",
            " [0. 1. 0. 1.]\n",
            " [1. 1. 1. 1.]]\n",
            "synaptic_weight\n",
            "[[ 0.86972016  0.36348073 -0.63030591]]\n",
            "output_layer\n",
            "[[0. 0. 0. 1.]]\n",
            "--------------------------------------------------------------------\n",
            "O_input\n",
            "[[-12.11562771  -4.09618609  -4.09618609   3.92325553]]\n",
            "O_output\n",
            "[[5.47327621e-06 1.63637750e-02 1.63637750e-02 9.80606923e-01]]\n",
            "--------------------------------------------------------------------\n",
            "O_error\n",
            "[[-5.47327621e-06 -1.63637750e-02 -1.63637750e-02  1.93930772e-02]]\n",
            "--------------------------------------------------------------------\n",
            "update synaptic_weight\n",
            "[[  8.01945216   8.01945216 -12.1156435 ]]\n"
          ],
          "name": "stdout"
        }
      ]
    }
  ]
}
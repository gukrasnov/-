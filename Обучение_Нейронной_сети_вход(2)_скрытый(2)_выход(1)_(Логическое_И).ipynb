{
  "nbformat": 4,
  "nbformat_minor": 0,
  "metadata": {
    "colab": {
      "name": "Обучение Нейронной сети - вход(2) скрытый(2) выход(1) (Логическое И).ipynb",
      "version": "0.3.2",
      "provenance": [],
      "include_colab_link": true
    },
    "kernelspec": {
      "name": "python3",
      "display_name": "Python 3"
    }
  },
  "cells": [
    {
      "cell_type": "markdown",
      "metadata": {
        "id": "view-in-github",
        "colab_type": "text"
      },
      "source": [
        "<a href=\"https://colab.research.google.com/github/gukrasnov/Python_Neural_Network/blob/master/%D0%9E%D0%B1%D1%83%D1%87%D0%B5%D0%BD%D0%B8%D0%B5_%D0%9D%D0%B5%D0%B9%D1%80%D0%BE%D0%BD%D0%BD%D0%BE%D0%B9_%D1%81%D0%B5%D1%82%D0%B8_%D0%B2%D1%85%D0%BE%D0%B4(2)_%D1%81%D0%BA%D1%80%D1%8B%D1%82%D1%8B%D0%B9(2)_%D0%B2%D1%8B%D1%85%D0%BE%D0%B4(1)_(%D0%9B%D0%BE%D0%B3%D0%B8%D1%87%D0%B5%D1%81%D0%BA%D0%BE%D0%B5_%D0%98).ipynb\" target=\"_parent\"><img src=\"https://colab.research.google.com/assets/colab-badge.svg\" alt=\"Open In Colab\"/></a>"
      ]
    },
    {
      "cell_type": "code",
      "metadata": {
        "id": "q-e60vBWuA9K",
        "colab_type": "code",
        "colab": {
          "base_uri": "https://localhost:8080/",
          "height": 255
        },
        "outputId": "d876a52c-9e80-4b31-b903-fae25df281ad"
      },
      "source": [
        "import numpy as np\n",
        "import scipy.special\n",
        "\n",
        "f_activation = lambda x: scipy.special.expit( x )\n",
        "\n",
        "def f_derivative( x ):\n",
        "  return x * ( 1 - x )\n",
        "\n",
        "ls = 0.1\n",
        "\n",
        "input_layer = np.array( [[0, 0, 1, 1],\n",
        "                         [0, 1, 0, 1],\n",
        "                         [1, 1, 1, 1]], dtype='float64' )\n",
        "\n",
        "np.random.seed( 1358 )\n",
        "synaptic_weight_1 = 2 * np.random.random( (2, 3) ) - 1\n",
        "np.random.seed( 8531 )\n",
        "synaptic_weight_2 = 2 * np.random.random( (1, 2) ) - 1\n",
        "\n",
        "output_layer = np.array( [[0, 0, 0, 1]], dtype='float64' )\n",
        "\n",
        "print( f'input_layer\\n{ input_layer }')\n",
        "print( f'synaptic_weight_1\\n{ synaptic_weight_1 }')\n",
        "print( f'synaptic_weight_2\\n{ synaptic_weight_2 }')\n",
        "print( f'output_layer\\n{ output_layer }' )\n",
        "print( f'--------------------------------------------------------------------' )\n",
        "\n",
        "for i in range( 10000 ):\n",
        "  \n",
        "  H_input = np.dot( synaptic_weight_1, input_layer )\n",
        "  H_output = f_activation( H_input )\n",
        "\n",
        "  O_input = np.dot( synaptic_weight_2, H_output )\n",
        "  O_output = f_activation( O_input )\n",
        "\n",
        "  O_error = output_layer - O_output\n",
        "  H_error = np.dot( synaptic_weight_2.T, O_error )\n",
        "\n",
        "  synaptic_weight_2 += ls * np.dot( O_error * f_derivative( O_output ), np.transpose( H_output ) )\n",
        "  synaptic_weight_1 += ls * np.dot( H_error * f_derivative( H_output ), np.transpose( input_layer ) )\n",
        "\n",
        "print( f'O_output\\n{ O_output }' )"
      ],
      "execution_count": 1,
      "outputs": [
        {
          "output_type": "stream",
          "text": [
            "input_layer\n",
            "[[0. 0. 1. 1.]\n",
            " [0. 1. 0. 1.]\n",
            " [1. 1. 1. 1.]]\n",
            "synaptic_weight_1\n",
            "[[ 0.86972016  0.36348073 -0.63030591]\n",
            " [ 0.84388098  0.84732604 -0.25890034]]\n",
            "synaptic_weight_2\n",
            "[[-0.26413596  0.99389447]]\n",
            "output_layer\n",
            "[[0. 0. 0. 1.]]\n",
            "--------------------------------------------------------------------\n",
            "O_output\n",
            "[[0.01180395 0.01675211 0.01675259 0.99265087]]\n"
          ],
          "name": "stdout"
        }
      ]
    }
  ]
}
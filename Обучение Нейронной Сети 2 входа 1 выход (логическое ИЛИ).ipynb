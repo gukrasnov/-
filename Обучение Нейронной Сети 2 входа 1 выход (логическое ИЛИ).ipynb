{
 "cells": [
  {
   "cell_type": "markdown",
   "metadata": {},
   "source": [
    "Обучение Нейронной Сети: 2 входа 1 выход (логическое ИЛИ)"
   ]
  },
  {
   "cell_type": "code",
   "execution_count": 1,
   "metadata": {},
   "outputs": [
    {
     "name": "stdout",
     "output_type": "stream",
     "text": [
      "input_layer + bias\n",
      "[[0 0 1]\n",
      " [0 1 1]\n",
      " [1 0 1]\n",
      " [1 1 1]]\n",
      "output_layer\n",
      "[[0]\n",
      " [1]\n",
      " [1]\n",
      " [1]]\n",
      "synaptic_weight\n",
      "[[ 5.77905918]\n",
      " [ 5.77929344]\n",
      " [-2.63949302]]\n",
      "O_input\n",
      "[[-2.63890203]\n",
      " [ 3.13923489]\n",
      " [ 3.13900012]\n",
      " [ 8.91713704]]\n",
      "O_output\n",
      "[[0.06667633]\n",
      " [0.95848244]\n",
      " [0.9584731 ]\n",
      " [0.99986595]]\n",
      "error\n",
      "[[1.11143326e-03]\n",
      " [4.30926849e-04]\n",
      " [4.31120828e-04]\n",
      " [4.49258951e-09]]\n",
      "SIGMA_O\n",
      "[[-4.14930786e-03]\n",
      " [ 1.65214328e-03]\n",
      " [ 1.65287087e-03]\n",
      " [ 1.79679490e-08]]\n",
      "GRAD_W\n",
      "[[ 0.00165289]\n",
      " [ 0.00165216]\n",
      " [-0.00084428]]\n",
      "DELTA_W\n",
      "[[ 0.00115702]\n",
      " [ 0.00115651]\n",
      " [-0.00059099]]\n",
      "synaptic_weight\n",
      "[[ 5.77905918]\n",
      " [ 5.77929344]\n",
      " [-2.63949302]]\n"
     ]
    }
   ],
   "source": [
    "import numpy as np\n",
    "import scipy.special\n",
    "f_activation = lambda x:scipy.special.expit(x)\n",
    "def f_derivative(x):\n",
    "    return x * (1 - x)\n",
    "input_layer = np.array([[0, 0, 1],\n",
    "                        [0, 1, 1],\n",
    "                        [1, 0, 1],\n",
    "                        [1, 1, 1]])\n",
    "output_layer = np.array([[0],\n",
    "                         [1],\n",
    "                         [1],\n",
    "                         [1]])\n",
    "np.random.seed(1)\n",
    "synaptic_weight = 2 * np.random.random((3, 1)) - 1\n",
    "\n",
    "ls, al, DELTA_W_i = 0.7, 0.3, 0\n",
    "\n",
    "for i in range(1000):\n",
    "\n",
    "    O_input = np.dot(input_layer, synaptic_weight)\n",
    "    O_output = f_activation(O_input)\n",
    "\n",
    "    error = ((output_layer - O_output) ** 2) / len(output_layer)\n",
    "\n",
    "    SIGMA_O = (output_layer - O_output) * ((1 - O_output) * O_output)\n",
    "\n",
    "    GRAD_W = np.dot(input_layer.T, SIGMA_O)\n",
    "\n",
    "    DELTA_W = ls * GRAD_W + al * DELTA_W_i\n",
    "\n",
    "    synaptic_weight += DELTA_W\n",
    "\n",
    "print(f'input_layer + bias\\n{input_layer}')\n",
    "print(f'output_layer\\n{output_layer}')\n",
    "print(f'synaptic_weight\\n{synaptic_weight}')\n",
    "print(f'O_input\\n{O_input}\\nO_output\\n{O_output}\\nerror\\n{error}\\nSIGMA_O\\n{SIGMA_O}')\n",
    "print(f'GRAD_W\\n{GRAD_W}\\nDELTA_W\\n{DELTA_W}')\n",
    "print(f'synaptic_weight\\n{synaptic_weight}')\n"
   ]
  },
  {
   "cell_type": "markdown",
   "metadata": {},
   "source": []
  },
  {
   "cell_type": "markdown",
   "metadata": {},
   "source": []
  }
 ],
 "metadata": {
  "kernelspec": {
   "display_name": "Python 3",
   "language": "python",
   "name": "python3"
  },
  "language_info": {
   "codemirror_mode": {
    "name": "ipython",
    "version": 3
   },
   "file_extension": ".py",
   "mimetype": "text/x-python",
   "name": "python",
   "nbconvert_exporter": "python",
   "pygments_lexer": "ipython3",
   "version": "3.6.7"
  }
 },
 "nbformat": 4,
 "nbformat_minor": 2
}

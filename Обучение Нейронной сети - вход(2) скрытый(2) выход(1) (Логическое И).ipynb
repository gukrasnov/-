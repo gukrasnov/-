{
 "cells": [
  {
   "cell_type": "markdown",
   "metadata": {},
   "source": [
    "# Обучение Нейронной сети - вход(2) скрытый(2) выход(1) (Логическое И)!"
   ]
  },
  {
   "cell_type": "code",
   "execution_count": 1,
   "metadata": {},
   "outputs": [
    {
     "name": "stdout",
     "output_type": "stream",
     "text": [
      "input_layer\n",
      "[[0. 0. 1. 1.]\n",
      " [0. 1. 0. 1.]\n",
      " [1. 1. 1. 1.]]\n",
      "synaptic_weight_1\n",
      "[[ 0.86972016  0.36348073 -0.63030591]\n",
      " [ 0.84388098  0.84732604 -0.25890034]]\n",
      "synaptic_weight_2\n",
      "[[-0.26413596  0.99389447]]\n",
      "output_layer\n",
      "[[0. 0. 0. 1.]]\n",
      "--------------------------------------------------------------------\n",
      "O_output\n",
      "[[0.01180395 0.01675211 0.01675259 0.99265087]]\n"
     ]
    }
   ],
   "source": [
    "import numpy as np\n",
    "import scipy.special\n",
    "\n",
    "f_activation = lambda x: scipy.special.expit( x )\n",
    "\n",
    "def f_derivative( x ):\n",
    "  return x * ( 1 - x )\n",
    "\n",
    "ls = 0.1\n",
    "\n",
    "input_layer = np.array( [[0, 0, 1, 1],\n",
    "                         [0, 1, 0, 1],\n",
    "                         [1, 1, 1, 1]], dtype='float64' )\n",
    "\n",
    "np.random.seed( 1358 )\n",
    "synaptic_weight_1 = 2 * np.random.random( (2, 3) ) - 1\n",
    "np.random.seed( 8531 )\n",
    "synaptic_weight_2 = 2 * np.random.random( (1, 2) ) - 1\n",
    "\n",
    "output_layer = np.array( [[0, 0, 0, 1]], dtype='float64' )\n",
    "\n",
    "print( f'input_layer\\n{ input_layer }')\n",
    "print( f'synaptic_weight_1\\n{ synaptic_weight_1 }')\n",
    "print( f'synaptic_weight_2\\n{ synaptic_weight_2 }')\n",
    "print( f'output_layer\\n{ output_layer }' )\n",
    "print( f'--------------------------------------------------------------------' )\n",
    "\n",
    "for i in range( 10000 ):\n",
    "  \n",
    "  H_input = np.dot( synaptic_weight_1, input_layer )\n",
    "  H_output = f_activation( H_input )\n",
    "\n",
    "  O_input = np.dot( synaptic_weight_2, H_output )\n",
    "  O_output = f_activation( O_input )\n",
    "\n",
    "  O_error = output_layer - O_output\n",
    "  H_error = np.dot( synaptic_weight_2.T, O_error )\n",
    "\n",
    "  synaptic_weight_2 += ls * np.dot( O_error * f_derivative( O_output ), np.transpose( H_output ) )\n",
    "  synaptic_weight_1 += ls * np.dot( H_error * f_derivative( H_output ), np.transpose( input_layer ) )\n",
    "\n",
    "print( f'O_output\\n{O_output}' )\n",
    "#print( f'H_input\\n{ H_input }\\nH_output\\n{ H_output }' )\n",
    "#print( f'O_input\\n{ O_input }\\nO_output\\n{ O_output }' )\n",
    "#print( f'--------------------------------------------------------------------' )\n",
    "#print( f'O_error\\n{ O_error }' )\n",
    "#print( f'H_error\\n{ H_error }' )\n",
    "#print( f'--------------------------------------------------------------------' )\n",
    "#print( f'update synaptic_weight_1\\n{ synaptic_weight_1 }' )\n",
    "#print( f'update synaptic_weight_2\\n{ synaptic_weight_2 }' )"
   ]
  },
  {
   "cell_type": "markdown",
   "metadata": {},
   "source": []
  },
  {
   "cell_type": "markdown",
   "metadata": {},
   "source": []
  }
 ],
 "metadata": {
  "kernelspec": {
   "display_name": "Python 3",
   "language": "python",
   "name": "python3"
  },
  "language_info": {
   "codemirror_mode": {
    "name": "ipython",
    "version": 3
   },
   "file_extension": ".py",
   "mimetype": "text/x-python",
   "name": "python",
   "nbconvert_exporter": "python",
   "pygments_lexer": "ipython3",
   "version": "3.6.7"
  }
 },
 "nbformat": 4,
 "nbformat_minor": 2
}

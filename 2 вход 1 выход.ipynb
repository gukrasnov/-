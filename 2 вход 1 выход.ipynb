{
 "cells": [
  {
   "cell_type": "markdown",
   "metadata": {},
   "source": [
    "Обучение Нейронной сети: 2 вход 1 выход"
   ]
  },
  {
   "cell_type": "code",
   "execution_count": 1,
   "metadata": {},
   "outputs": [
    {
     "name": "stdout",
     "output_type": "stream",
     "text": [
      "input_layer + bias\n",
      "[[0 0 1]\n",
      " [0 1 1]\n",
      " [1 0 1]\n",
      " [1 1 1]]\n",
      "output_layer\n",
      "[[0]\n",
      " [0]\n",
      " [0]\n",
      " [1]]\n",
      "O_input\n",
      "[[-6.74747111]\n",
      " [-2.31513571]\n",
      " [-2.31513774]\n",
      " [ 2.11719767]]\n",
      "O_output\n",
      "[[0.00117247]\n",
      " [0.08987716]\n",
      " [0.089877  ]\n",
      " [0.8925635 ]]\n",
      "error\n",
      "[[1.37468144e-06]\n",
      " [8.07790422e-03]\n",
      " [8.07787440e-03]\n",
      " [1.15426019e-02]]\n"
     ]
    }
   ],
   "source": [
    "import numpy as np\n",
    "import scipy.special\n",
    "\n",
    "f_activation = lambda x:scipy.special.expit(x)\n",
    "\n",
    "def f_derivative(x):\n",
    "  return (1 - x) * x\n",
    "\n",
    "input_layer = np.array([[0, 0, 1],\n",
    "                        [0, 1, 1],\n",
    "                        [1, 0, 1],\n",
    "                        [1, 1, 1]])\n",
    "\n",
    "output_layer = np.array([[0],\n",
    "                         [0],\n",
    "                         [0],\n",
    "                         [1]])\n",
    "\n",
    "synaptic_weight = 2 * np.random.random((3, 1)) - 1\n",
    "\n",
    "ls, al, DELTA_W_i = 0.7, 0.3, 0\n",
    "\n",
    "for i in range(600):\n",
    "  \n",
    "  O_input = np.dot(input_layer, synaptic_weight)\n",
    "  \n",
    "  O_output = f_activation(O_input)\n",
    "  \n",
    "  error = ((output_layer - O_output) ** 2) / 1\n",
    "  \n",
    "  SIGMA_O = (output_layer - O_output) * f_derivative(O_output)\n",
    "  \n",
    "  GRAD_W = np.dot(input_layer.T, SIGMA_O)\n",
    "  \n",
    "  DELTA_W = ls * GRAD_W + al * DELTA_W_i\n",
    "  \n",
    "  synaptic_weight += DELTA_W\n",
    "  \n",
    "print(f'input_layer + bias\\n{input_layer}')\n",
    "\n",
    "print(f'output_layer\\n{output_layer}')\n",
    "\n",
    "print(f'O_input\\n{O_input}')\n",
    "\n",
    "print(f'O_output\\n{O_output}')\n",
    "\n",
    "print(f'error\\n{error}')"
   ]
  },
  {
   "cell_type": "markdown",
   "metadata": {},
   "source": []
  },
  {
   "cell_type": "markdown",
   "metadata": {},
   "source": []
  }
 ],
 "metadata": {
  "kernelspec": {
   "display_name": "Python 3",
   "language": "python",
   "name": "python3"
  },
  "language_info": {
   "codemirror_mode": {
    "name": "ipython",
    "version": 3
   },
   "file_extension": ".py",
   "mimetype": "text/x-python",
   "name": "python",
   "nbconvert_exporter": "python",
   "pygments_lexer": "ipython3",
   "version": "3.6.7"
  }
 },
 "nbformat": 4,
 "nbformat_minor": 2
}
